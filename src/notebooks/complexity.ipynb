{
 "cells": [
  {
   "cell_type": "code",
   "execution_count": null,
   "metadata": {
    "pycharm": {
     "name": "#%%\n"
    }
   },
   "outputs": [],
   "source": [
    "from IPython.core.display import display, HTML\n",
    "display(HTML(\"<style>.container { width:100% !important; }</style>\"))\n",
    "\n",
    "import sys\n",
    "sys.path.append('../../')\n",
    "import numpy as np\n",
    "import pandas as pd\n",
    "import matplotlib.pyplot as plt\n",
    "from matplotlib import rc\n",
    "rc('text', usetex=False)\n",
    "\n",
    "\n",
    "from src.evaluation.experimental_setup_csv import run\n",
    "from sklearn.datasets import make_classification"
   ]
  },
  {
   "cell_type": "markdown",
   "metadata": {
    "pycharm": {
     "name": "#%% md\n"
    }
   },
   "source": [
    "# Computation Complexity Comparison"
   ]
  },
  {
   "cell_type": "code",
   "execution_count": null,
   "metadata": {
    "pycharm": {
     "name": "#%%\n"
    }
   },
   "outputs": [],
   "source": [
    "data_set_names = []\n",
    "n_samples_arr = np.array([500, 1000, 1500, 2000, 2500])\n",
    "n_classes_arr = np.array([2, 4, 6])\n",
    "\n",
    "for n_classes in n_classes_arr:\n",
    "    for n_samples in n_samples_arr:\n",
    "        X, y = make_classification(n_samples=n_samples+1, n_classes=n_classes, n_informative=10, n_features=10,\n",
    "                                   n_redundant=0, random_state=42)\n",
    "        data_dict = {'x_'+str(d): X[:, d] for d in range(np.size(X, axis=1))}\n",
    "        data_dict['y'] = y\n",
    "        data_df = pd.DataFrame(data_dict)\n",
    "        data_set_name = 'toy_nsamples={}_nclasses={}'.format(n_samples, n_classes)\n",
    "        data_df.to_csv('../../data/{}.csv'.format(data_set_name), index=False)\n",
    "        data_set_names.append(data_set_name)"
   ]
  },
  {
   "cell_type": "code",
   "execution_count": null,
   "metadata": {
    "pycharm": {
     "name": "#%%\n"
    },
    "scrolled": true
   },
   "outputs": [],
   "source": [
    "strategy_names = ['random', 'lc', 'pal-1', 'qbc', 'alce', 'zero-one-loss', 'xpal-0.001']\n",
    "data_dfs = {}\n",
    "for s in strategy_names:\n",
    "    data_dfs[s] = {}\n",
    "    for d in data_set_names:\n",
    "        run(data_set=d, results_path='../../results', query_strategy=s, budget=500, test_ratio=1, kernel='rbf', bandwidth='mean', seed=42)\n",
    "        df = pd.read_csv('../../results/performances_{}_{}_1_rbf_mean_all_42.csv'.format(d, s))\n",
    "        data_dfs[s][d] = np.mean(df['time'].values[1:200])"
   ]
  },
  {
   "cell_type": "code",
   "execution_count": null,
   "metadata": {
    "pycharm": {
     "name": "#%%\n"
    }
   },
   "outputs": [],
   "source": [
    "query_strategy_dict = {\n",
    "                        'random': ['dimgrey', 1.5, 'RAND'],\n",
    "                        'qbc': ['slateblue', 1.5, 'QBC'],\n",
    "                        'alce': ['darkorange', 1.5, 'ALCE'],\n",
    "                        'lc': ['m', 1.5, 'US'],\n",
    "                        'zero-one-loss': ['cadetblue', 1.5, 'EER'],\n",
    "                        'pal-1': ['darkred', 1.5, 'PAL'],\n",
    "                        'xpal-0.001': ['mediumseagreen', 3, r'xPAL'],\n",
    "                      }\n",
    "fig, ax = plt.subplots(1, 1, figsize=(3.5, 3.5))\n",
    "for idx_s, s in enumerate(reversed(list(query_strategy_dict.keys()))):\n",
    "    times = []\n",
    "    for n_classes in n_classes_arr:\n",
    "        times.append([])\n",
    "        for d in data_set_names:\n",
    "            if 'nclasses={}'.format(n_classes) in d:\n",
    "                times[-1].append(data_dfs[s][d])\n",
    "\n",
    "    ax.plot(n_samples_arr, np.mean(times, axis=0), color=query_strategy_dict[s][0],\n",
    "            label=query_strategy_dict[s][2], lw=query_strategy_dict[s][1],\n",
    "            zorder=-idx_s+10, alpha=0.8)\n",
    "\n",
    "ax.set_xlabel('dataset size', color='black')\n",
    "ax.set_ylabel('mean computation time [s]', color='black')\n",
    "fig.legend(fontsize=8, bbox_to_anchor=(0.45, 0.92))\n",
    "fig.tight_layout()\n",
    "fig.savefig('../../images/complexity.pdf')"
   ]
  }
 ],
 "metadata": {
  "kernelspec": {
   "display_name": "Python 3",
   "language": "python",
   "name": "python3"
  },
  "language_info": {
   "codemirror_mode": {
    "name": "ipython",
    "version": 3
   },
   "file_extension": ".py",
   "mimetype": "text/x-python",
   "name": "python",
   "nbconvert_exporter": "python",
   "pygments_lexer": "ipython3",
   "version": "3.7.6"
  }
 },
 "nbformat": 4,
 "nbformat_minor": 1
}
